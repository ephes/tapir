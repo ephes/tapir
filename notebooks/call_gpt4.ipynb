{
 "cells": [
  {
   "cell_type": "code",
   "execution_count": 26,
   "id": "9ab7fc81-cbb0-457f-a53a-701c33bcbf82",
   "metadata": {},
   "outputs": [],
   "source": [
    "import openai\n",
    "\n",
    "from pathlib import Path\n",
    "\n",
    "from tapir.config import settings\n",
    "\n",
    "openai.api_key = settings.openai_api_key"
   ]
  },
  {
   "cell_type": "code",
   "execution_count": 31,
   "id": "50d75d4b-8c50-4bda-a87f-8031d0b86545",
   "metadata": {},
   "outputs": [],
   "source": [
    "source_root = Path.home() / \"projects\" / \"cast-vue\" / \"cast_vue\" / \"static\" / \"src\""
   ]
  },
  {
   "cell_type": "code",
   "execution_count": 61,
   "id": "89a12997-2f35-44c6-935d-5943a00ebb3f",
   "metadata": {},
   "outputs": [
    {
     "name": "stdout",
     "output_type": "stream",
     "text": [
      "cast_vue/App.vue\n",
      "cast_vue/main.ts\n",
      "cast_vue/env.d.ts\n",
      "stores/dataStore.ts\n",
      "components/CommentItem.vue\n",
      "components/PaginationButtons.vue\n",
      "components/PostDetail.vue\n",
      "components/CommentForm.vue\n",
      "components/PostList.vue\n",
      "components/FilterForm.vue\n",
      "components/Counter.vue\n",
      "components/types.ts\n",
      "components/PostItem.vue\n",
      "components/CommentList.vue\n",
      "components/LoadPostList.vue\n",
      "helpers/dom.ts\n",
      "helpers/url.ts\n"
     ]
    }
   ],
   "source": [
    "source_files = []\n",
    "extensions = {\".ts\", \".vue\"}\n",
    "for path in source_root.rglob(\"*\"):\n",
    "    if \"test\" in path.name:\n",
    "        continue\n",
    "    if path.suffix in extensions:\n",
    "        name = f\"{path.parent.name}/{path.name}\"\n",
    "        print(name)\n",
    "        with path.open(\"r\") as f:\n",
    "            content = f.read()\n",
    "        source_files.append((name, content))"
   ]
  },
  {
   "cell_type": "code",
   "execution_count": 62,
   "id": "c1e587be-4add-4811-9bc9-51704f78d0c9",
   "metadata": {},
   "outputs": [],
   "source": [
    "contents = []\n",
    "for name, source in source_files:\n",
    "    contents.append(f\"// file named {name}\")\n",
    "    contents.append(source)\n",
    "source_content = \"\\n\".join(contents)\n",
    "#print(source_content)"
   ]
  },
  {
   "cell_type": "code",
   "execution_count": 63,
   "id": "76c8d9a0-9120-4a71-98e5-a64650e30721",
   "metadata": {},
   "outputs": [],
   "source": [
    "messages=[\n",
    "    {\n",
    "        \"role\": \"system\",\n",
    "        \"content\": \"You are an expert typescript and Vue.js 3 programmer\",\n",
    "    },\n",
    "    {\n",
    "        \"role\": \"user\",\n",
    "         \"content\": f\"What would be some refactoring recommendations for following code: \\n {source_content}\"\n",
    "    }\n",
    "]"
   ]
  },
  {
   "cell_type": "code",
   "execution_count": 66,
   "id": "c2dac223-8c9c-445b-bb04-6af471560614",
   "metadata": {},
   "outputs": [],
   "source": [
    "response = openai.ChatCompletion.create(\n",
    "    model=\"gpt-4\",\n",
    "    temperature=1.2,\n",
    "    messages=messages\n",
    ")"
   ]
  },
  {
   "cell_type": "code",
   "execution_count": 68,
   "id": "46fa6e81-1c73-4066-a3b2-670da116f26a",
   "metadata": {},
   "outputs": [
    {
     "name": "stdout",
     "output_type": "stream",
     "text": [
      "{\n",
      "  \"choices\": [\n",
      "    {\n",
      "      \"finish_reason\": \"stop\",\n",
      "      \"index\": 0,\n",
      "      \"message\": {\n",
      "        \"content\": \"Here are some of the recommended refactorings for various components and files:\\n\\n1. Use `defineComponent` for creating components consistently in Vue.js:\\n\\n   Convert all components to utilize `defineComponent` when exporting them. This will make the components more consistent, easy to work with, and provide better TypeScript support.\\n\\n   Example:\\n   ```javascript\\n   // components/Counter.vue\\n\\n   // Replacing 'export default {...}' with 'defineComponent'\\n   import { defineComponent } from 'vue';\\n\\n   export default defineComponent({\\n     // Other options inside the component\\n     data() {\\n       return {\\n         count: 23,\\n       };\\n     },\\n   });\\n   ```\\n   \\n2. Value validation for ref():\\n\\n   When using `ref()` with a default value on certain properties in `data()` or in a computed property, add default value validation and casting to check for acceptable data types.\\n\\n   Example:\\n   ```javascript\\n   import { toRef, computed, reactive } from 'vue';\\n   const postsFromApi = ref((data.totalPages as any) as PostsFromApi);\\n   ```\\n\\n3. Use a separate file for storing constant variables and import it in your Vue component:\\n\\n   For example, if some URL values and other constants are being used in various components, it might be helpful to store them in a separate file and import only the required constants.\\n\\n   ```javascript\\n   // someContant.ts\\n   export const ITEMS_PER_PAGE = 10;\\n\\n   // Then, import in component for use.\\n   import { ITEMS_PER_PAGE } from './someContant.ts';\\n   ```\\n   \\n4. Clean Imports:\\n\\n   Organize your imports at the top of the component or file, such as keeping the External and Internal imports grouped and sorted.\\n\\n5. Use types while iterating over an Array of Objects in templates:\\n\\n   For better handling and preventing type-related issues, provide type to all non-scalar data.\\n\\n   Example:\\n   ```html\\n   <div v-for=\\\"comment in fathercomments\\\" :key=\\\"comment.id\\\">\\n     <comment-item :comment=\\\"comment\\\"></comment-item>\\n   </div>\\n   - or in script section.\\n   const moveProperAlbum: Loan.Model<Album.Contract> = {...};\\n   ```\\n   \\n6. Refactoring data models into utility functions: This will enable us to use the same logic in the future.\\n\\n   Refactor data manipulation functions and logic for Objects, Arrays and Posts_FromAPI from Reactive properties or component methods; into utility functions, that can be imported consistently across various scripts.\\n\\n   Example:\\n   '@/helpers/queryUtils.ts'\\n\\n  and importing necessary multiple contents regarding posts and objects into script functions as mentioned above:\\n ```javascript\\n  import { fetchQuery, extractContentById } from '@/helpers/dom';\\n ``` \",\n",
      "        \"role\": \"assistant\"\n",
      "      }\n",
      "    }\n",
      "  ],\n",
      "  \"created\": 1685537834,\n",
      "  \"id\": \"chatcmpl-7MFg2xOS2WobdL1EsYXEejzdl5hHM\",\n",
      "  \"model\": \"gpt-4-0314\",\n",
      "  \"object\": \"chat.completion\",\n",
      "  \"usage\": {\n",
      "    \"completion_tokens\": 560,\n",
      "    \"prompt_tokens\": 7625,\n",
      "    \"total_tokens\": 8185\n",
      "  }\n",
      "}\n"
     ]
    }
   ],
   "source": [
    "print(response)"
   ]
  },
  {
   "cell_type": "code",
   "execution_count": 69,
   "id": "3b0ba2e8-5c99-42cd-9781-7652a9248a1c",
   "metadata": {},
   "outputs": [
    {
     "name": "stdout",
     "output_type": "stream",
     "text": [
      "Here are some of the recommended refactorings for various components and files:\n",
      "\n",
      "1. Use `defineComponent` for creating components consistently in Vue.js:\n",
      "\n",
      "   Convert all components to utilize `defineComponent` when exporting them. This will make the components more consistent, easy to work with, and provide better TypeScript support.\n",
      "\n",
      "   Example:\n",
      "   ```javascript\n",
      "   // components/Counter.vue\n",
      "\n",
      "   // Replacing 'export default {...}' with 'defineComponent'\n",
      "   import { defineComponent } from 'vue';\n",
      "\n",
      "   export default defineComponent({\n",
      "     // Other options inside the component\n",
      "     data() {\n",
      "       return {\n",
      "         count: 23,\n",
      "       };\n",
      "     },\n",
      "   });\n",
      "   ```\n",
      "   \n",
      "2. Value validation for ref():\n",
      "\n",
      "   When using `ref()` with a default value on certain properties in `data()` or in a computed property, add default value validation and casting to check for acceptable data types.\n",
      "\n",
      "   Example:\n",
      "   ```javascript\n",
      "   import { toRef, computed, reactive } from 'vue';\n",
      "   const postsFromApi = ref((data.totalPages as any) as PostsFromApi);\n",
      "   ```\n",
      "\n",
      "3. Use a separate file for storing constant variables and import it in your Vue component:\n",
      "\n",
      "   For example, if some URL values and other constants are being used in various components, it might be helpful to store them in a separate file and import only the required constants.\n",
      "\n",
      "   ```javascript\n",
      "   // someContant.ts\n",
      "   export const ITEMS_PER_PAGE = 10;\n",
      "\n",
      "   // Then, import in component for use.\n",
      "   import { ITEMS_PER_PAGE } from './someContant.ts';\n",
      "   ```\n",
      "   \n",
      "4. Clean Imports:\n",
      "\n",
      "   Organize your imports at the top of the component or file, such as keeping the External and Internal imports grouped and sorted.\n",
      "\n",
      "5. Use types while iterating over an Array of Objects in templates:\n",
      "\n",
      "   For better handling and preventing type-related issues, provide type to all non-scalar data.\n",
      "\n",
      "   Example:\n",
      "   ```html\n",
      "   <div v-for=\"comment in fathercomments\" :key=\"comment.id\">\n",
      "     <comment-item :comment=\"comment\"></comment-item>\n",
      "   </div>\n",
      "   - or in script section.\n",
      "   const moveProperAlbum: Loan.Model<Album.Contract> = {...};\n",
      "   ```\n",
      "   \n",
      "6. Refactoring data models into utility functions: This will enable us to use the same logic in the future.\n",
      "\n",
      "   Refactor data manipulation functions and logic for Objects, Arrays and Posts_FromAPI from Reactive properties or component methods; into utility functions, that can be imported consistently across various scripts.\n",
      "\n",
      "   Example:\n",
      "   '@/helpers/queryUtils.ts'\n",
      "\n",
      "  and importing necessary multiple contents regarding posts and objects into script functions as mentioned above:\n",
      " ```javascript\n",
      "  import { fetchQuery, extractContentById } from '@/helpers/dom';\n",
      " ``` \n"
     ]
    }
   ],
   "source": [
    "print(response[\"choices\"][0][\"message\"][\"content\"])"
   ]
  },
  {
   "cell_type": "code",
   "execution_count": null,
   "id": "60a02bb1-bf47-4ec0-96cb-f6035ec275c6",
   "metadata": {},
   "outputs": [],
   "source": []
  }
 ],
 "metadata": {
  "kernelspec": {
   "display_name": "Python 3 (ipykernel)",
   "language": "python",
   "name": "python3"
  },
  "language_info": {
   "codemirror_mode": {
    "name": "ipython",
    "version": 3
   },
   "file_extension": ".py",
   "mimetype": "text/x-python",
   "name": "python",
   "nbconvert_exporter": "python",
   "pygments_lexer": "ipython3",
   "version": "3.11.3"
  }
 },
 "nbformat": 4,
 "nbformat_minor": 5
}
